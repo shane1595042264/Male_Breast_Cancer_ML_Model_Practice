{
 "cells": [
  {
   "cell_type": "markdown",
   "metadata": {
    "id": "jWDeo7pkRyWS"
   },
   "source": [
    "# Preparation"
   ]
  },
  {
   "cell_type": "code",
   "execution_count": 95,
   "metadata": {
    "colab": {
     "base_uri": "https://localhost:8080/"
    },
    "id": "WaYUYvJ4JZUa",
    "outputId": "08b12b6c-cefb-410b-ec54-116f34f256db",
    "scrolled": false
   },
   "outputs": [
    {
     "name": "stdout",
     "output_type": "stream",
     "text": [
      "Requirement already satisfied: imblearn in f:\\anaconda\\conda\\lib\\site-packages (0.0)\n",
      "Requirement already satisfied: imbalanced-learn in f:\\anaconda\\conda\\lib\\site-packages (from imblearn) (0.8.0)\n",
      "Requirement already satisfied: scipy>=0.19.1 in f:\\anaconda\\conda\\lib\\site-packages (from imbalanced-learn->imblearn) (1.6.2)\n",
      "Requirement already satisfied: scikit-learn>=0.24 in f:\\anaconda\\conda\\lib\\site-packages (from imbalanced-learn->imblearn) (0.24.1)\n",
      "Requirement already satisfied: numpy>=1.13.3 in f:\\anaconda\\conda\\lib\\site-packages (from imbalanced-learn->imblearn) (1.20.1)\n",
      "Requirement already satisfied: joblib>=0.11 in f:\\anaconda\\conda\\lib\\site-packages (from imbalanced-learn->imblearn) (1.0.1)\n",
      "Requirement already satisfied: threadpoolctl>=2.0.0 in f:\\anaconda\\conda\\lib\\site-packages (from scikit-learn>=0.24->imbalanced-learn->imblearn) (2.1.0)\n",
      "Note: you may need to restart the kernel to use updated packages.\n"
     ]
    }
   ],
   "source": [
    "pip install imblearn"
   ]
  },
  {
   "cell_type": "code",
   "execution_count": 96,
   "metadata": {},
   "outputs": [
    {
     "name": "stdout",
     "output_type": "stream",
     "text": [
      "0.8.0\n"
     ]
    }
   ],
   "source": [
    "import imblearn\n",
    "print(imblearn.__version__)"
   ]
  },
  {
   "cell_type": "code",
   "execution_count": 97,
   "metadata": {
    "id": "N99RZDyaBz1E"
   },
   "outputs": [],
   "source": [
    "import pandas as pd\n",
    "import numpy as np\n",
    "import matplotlib.pyplot as plt\n",
    "from sklearn.tree import DecisionTreeClassifier\n",
    "from sklearn.tree import plot_tree\n",
    "from sklearn.model_selection import train_test_split\n",
    "from sklearn.model_selection import cross_val_score\n",
    "from sklearn.metrics import confusion_matrix\n",
    "from sklearn.metrics import plot_confusion_matrix\n",
    "from sklearn.ensemble import RandomForestClassifier\n",
    "import seaborn as sns\n",
    "#ROC curve, sensitivity, specificity\n",
    "#xgboost\n"
   ]
  },
  {
   "cell_type": "markdown",
   "metadata": {
    "id": "84gmSktsR6HQ"
   },
   "source": [
    "# Preprocessing"
   ]
  },
  {
   "cell_type": "code",
   "execution_count": 98,
   "metadata": {
    "id": "4iu-T7-BDLWZ"
   },
   "outputs": [],
   "source": [
    "df = pd.read_csv('mdata3.csv')"
   ]
  },
  {
   "cell_type": "code",
   "execution_count": 99,
   "metadata": {
    "colab": {
     "base_uri": "https://localhost:8080/",
     "height": 224
    },
    "id": "D0h-EorFJikr",
    "outputId": "6cd611f4-b2b7-4234-87df-03b3880e89ae"
   },
   "outputs": [
    {
     "data": {
      "text/html": [
       "<div>\n",
       "<style scoped>\n",
       "    .dataframe tbody tr th:only-of-type {\n",
       "        vertical-align: middle;\n",
       "    }\n",
       "\n",
       "    .dataframe tbody tr th {\n",
       "        vertical-align: top;\n",
       "    }\n",
       "\n",
       "    .dataframe thead th {\n",
       "        text-align: right;\n",
       "    }\n",
       "</style>\n",
       "<table border=\"1\" class=\"dataframe\">\n",
       "  <thead>\n",
       "    <tr style=\"text-align: right;\">\n",
       "      <th></th>\n",
       "      <th>pipe</th>\n",
       "      <th>cigar</th>\n",
       "      <th>asp</th>\n",
       "      <th>ibup</th>\n",
       "      <th>asppd</th>\n",
       "      <th>ibuppd</th>\n",
       "      <th>hyperten_f</th>\n",
       "      <th>hearta_f</th>\n",
       "      <th>stroke_f</th>\n",
       "      <th>emphys_f</th>\n",
       "      <th>...</th>\n",
       "      <th>weight20_f</th>\n",
       "      <th>weight50_f</th>\n",
       "      <th>height_f</th>\n",
       "      <th>bmi_20c</th>\n",
       "      <th>bmi_50c</th>\n",
       "      <th>colon_comorbidity</th>\n",
       "      <th>liver_comorbidity</th>\n",
       "      <th>fh_cancer</th>\n",
       "      <th>age</th>\n",
       "      <th>agelevel</th>\n",
       "    </tr>\n",
       "  </thead>\n",
       "  <tbody>\n",
       "    <tr>\n",
       "      <th>0</th>\n",
       "      <td>0</td>\n",
       "      <td>0</td>\n",
       "      <td>1</td>\n",
       "      <td>0</td>\n",
       "      <td>4</td>\n",
       "      <td>0</td>\n",
       "      <td>1</td>\n",
       "      <td>0</td>\n",
       "      <td>0</td>\n",
       "      <td>0</td>\n",
       "      <td>...</td>\n",
       "      <td>200</td>\n",
       "      <td>220</td>\n",
       "      <td>73</td>\n",
       "      <td>3</td>\n",
       "      <td>3</td>\n",
       "      <td>0</td>\n",
       "      <td>0</td>\n",
       "      <td>1</td>\n",
       "      <td>67</td>\n",
       "      <td>2</td>\n",
       "    </tr>\n",
       "    <tr>\n",
       "      <th>1</th>\n",
       "      <td>2</td>\n",
       "      <td>2</td>\n",
       "      <td>0</td>\n",
       "      <td>0</td>\n",
       "      <td>0</td>\n",
       "      <td>0</td>\n",
       "      <td>1</td>\n",
       "      <td>0</td>\n",
       "      <td>0</td>\n",
       "      <td>0</td>\n",
       "      <td>...</td>\n",
       "      <td>160</td>\n",
       "      <td>200</td>\n",
       "      <td>71</td>\n",
       "      <td>2</td>\n",
       "      <td>3</td>\n",
       "      <td>0</td>\n",
       "      <td>0</td>\n",
       "      <td>1</td>\n",
       "      <td>62</td>\n",
       "      <td>1</td>\n",
       "    </tr>\n",
       "    <tr>\n",
       "      <th>2</th>\n",
       "      <td>0</td>\n",
       "      <td>0</td>\n",
       "      <td>1</td>\n",
       "      <td>0</td>\n",
       "      <td>2</td>\n",
       "      <td>0</td>\n",
       "      <td>1</td>\n",
       "      <td>0</td>\n",
       "      <td>0</td>\n",
       "      <td>0</td>\n",
       "      <td>...</td>\n",
       "      <td>220</td>\n",
       "      <td>230</td>\n",
       "      <td>71</td>\n",
       "      <td>4</td>\n",
       "      <td>4</td>\n",
       "      <td>0</td>\n",
       "      <td>0</td>\n",
       "      <td>1</td>\n",
       "      <td>62</td>\n",
       "      <td>1</td>\n",
       "    </tr>\n",
       "    <tr>\n",
       "      <th>3</th>\n",
       "      <td>2</td>\n",
       "      <td>0</td>\n",
       "      <td>1</td>\n",
       "      <td>1</td>\n",
       "      <td>6</td>\n",
       "      <td>6</td>\n",
       "      <td>0</td>\n",
       "      <td>0</td>\n",
       "      <td>0</td>\n",
       "      <td>0</td>\n",
       "      <td>...</td>\n",
       "      <td>120</td>\n",
       "      <td>154</td>\n",
       "      <td>67</td>\n",
       "      <td>2</td>\n",
       "      <td>2</td>\n",
       "      <td>0</td>\n",
       "      <td>0</td>\n",
       "      <td>0</td>\n",
       "      <td>57</td>\n",
       "      <td>0</td>\n",
       "    </tr>\n",
       "    <tr>\n",
       "      <th>4</th>\n",
       "      <td>0</td>\n",
       "      <td>0</td>\n",
       "      <td>1</td>\n",
       "      <td>1</td>\n",
       "      <td>2</td>\n",
       "      <td>1</td>\n",
       "      <td>1</td>\n",
       "      <td>1</td>\n",
       "      <td>0</td>\n",
       "      <td>0</td>\n",
       "      <td>...</td>\n",
       "      <td>185</td>\n",
       "      <td>195</td>\n",
       "      <td>70</td>\n",
       "      <td>3</td>\n",
       "      <td>3</td>\n",
       "      <td>0</td>\n",
       "      <td>0</td>\n",
       "      <td>1</td>\n",
       "      <td>56</td>\n",
       "      <td>0</td>\n",
       "    </tr>\n",
       "  </tbody>\n",
       "</table>\n",
       "<p>5 rows × 44 columns</p>\n",
       "</div>"
      ],
      "text/plain": [
       "   pipe  cigar  asp  ibup  asppd  ibuppd  hyperten_f  hearta_f  stroke_f  \\\n",
       "0     0      0    1     0      4       0           1         0         0   \n",
       "1     2      2    0     0      0       0           1         0         0   \n",
       "2     0      0    1     0      2       0           1         0         0   \n",
       "3     2      0    1     1      6       6           0         0         0   \n",
       "4     0      0    1     1      2       1           1         1         0   \n",
       "\n",
       "   emphys_f  ...  weight20_f  weight50_f  height_f  bmi_20c  bmi_50c  \\\n",
       "0         0  ...         200         220        73        3        3   \n",
       "1         0  ...         160         200        71        2        3   \n",
       "2         0  ...         220         230        71        4        4   \n",
       "3         0  ...         120         154        67        2        2   \n",
       "4         0  ...         185         195        70        3        3   \n",
       "\n",
       "   colon_comorbidity  liver_comorbidity  fh_cancer  age  agelevel  \n",
       "0                  0                  0          1   67         2  \n",
       "1                  0                  0          1   62         1  \n",
       "2                  0                  0          1   62         1  \n",
       "3                  0                  0          0   57         0  \n",
       "4                  0                  0          1   56         0  \n",
       "\n",
       "[5 rows x 44 columns]"
      ]
     },
     "execution_count": 99,
     "metadata": {},
     "output_type": "execute_result"
    }
   ],
   "source": [
    "# X variable for prediction new copy\n",
    "X = df.drop('mbreast_cancer', axis = 1).copy()\n",
    "X.head()"
   ]
  },
  {
   "cell_type": "code",
   "execution_count": 100,
   "metadata": {
    "colab": {
     "base_uri": "https://localhost:8080/"
    },
    "id": "BfRJnKlYKHXk",
    "outputId": "642ae7ff-bd49-48ad-da73-bce3f383e09a"
   },
   "outputs": [
    {
     "data": {
      "text/plain": [
       "0    0\n",
       "1    0\n",
       "2    0\n",
       "3    0\n",
       "4    0\n",
       "Name: mbreast_cancer, dtype: int64"
      ]
     },
     "execution_count": 100,
     "metadata": {},
     "output_type": "execute_result"
    }
   ],
   "source": [
    "y = df['mbreast_cancer'].copy()\n",
    "y.head()"
   ]
  },
  {
   "cell_type": "code",
   "execution_count": 101,
   "metadata": {
    "colab": {
     "base_uri": "https://localhost:8080/",
     "height": 253
    },
    "id": "t7ngqspkR0_P",
    "outputId": "d99acaad-f3c8-4e35-e8bb-0d6ea0459a11"
   },
   "outputs": [
    {
     "data": {
      "text/html": [
       "<div>\n",
       "<style scoped>\n",
       "    .dataframe tbody tr th:only-of-type {\n",
       "        vertical-align: middle;\n",
       "    }\n",
       "\n",
       "    .dataframe tbody tr th {\n",
       "        vertical-align: top;\n",
       "    }\n",
       "\n",
       "    .dataframe thead th {\n",
       "        text-align: right;\n",
       "    }\n",
       "</style>\n",
       "<table border=\"1\" class=\"dataframe\">\n",
       "  <thead>\n",
       "    <tr style=\"text-align: right;\">\n",
       "      <th></th>\n",
       "      <th>cig_years</th>\n",
       "      <th>pack_years</th>\n",
       "      <th>bmi_20</th>\n",
       "      <th>bmi_50</th>\n",
       "      <th>bmi_curr</th>\n",
       "      <th>weight_f</th>\n",
       "      <th>weight20_f</th>\n",
       "      <th>weight50_f</th>\n",
       "      <th>height_f</th>\n",
       "      <th>age</th>\n",
       "      <th>...</th>\n",
       "      <th>colon_comorbidity_0</th>\n",
       "      <th>colon_comorbidity_1</th>\n",
       "      <th>liver_comorbidity_0</th>\n",
       "      <th>liver_comorbidity_1</th>\n",
       "      <th>fh_cancer_0</th>\n",
       "      <th>fh_cancer_1</th>\n",
       "      <th>agelevel_0</th>\n",
       "      <th>agelevel_1</th>\n",
       "      <th>agelevel_2</th>\n",
       "      <th>agelevel_3</th>\n",
       "    </tr>\n",
       "  </thead>\n",
       "  <tbody>\n",
       "    <tr>\n",
       "      <th>0</th>\n",
       "      <td>0.0</td>\n",
       "      <td>0.0</td>\n",
       "      <td>26.383937</td>\n",
       "      <td>29.022331</td>\n",
       "      <td>25.724339</td>\n",
       "      <td>195</td>\n",
       "      <td>200</td>\n",
       "      <td>220</td>\n",
       "      <td>73</td>\n",
       "      <td>67</td>\n",
       "      <td>...</td>\n",
       "      <td>1</td>\n",
       "      <td>0</td>\n",
       "      <td>1</td>\n",
       "      <td>0</td>\n",
       "      <td>0</td>\n",
       "      <td>1</td>\n",
       "      <td>0</td>\n",
       "      <td>0</td>\n",
       "      <td>1</td>\n",
       "      <td>0</td>\n",
       "    </tr>\n",
       "    <tr>\n",
       "      <th>1</th>\n",
       "      <td>8.0</td>\n",
       "      <td>24.0</td>\n",
       "      <td>22.313033</td>\n",
       "      <td>27.891291</td>\n",
       "      <td>25.659988</td>\n",
       "      <td>184</td>\n",
       "      <td>160</td>\n",
       "      <td>200</td>\n",
       "      <td>71</td>\n",
       "      <td>62</td>\n",
       "      <td>...</td>\n",
       "      <td>1</td>\n",
       "      <td>0</td>\n",
       "      <td>1</td>\n",
       "      <td>0</td>\n",
       "      <td>0</td>\n",
       "      <td>1</td>\n",
       "      <td>0</td>\n",
       "      <td>1</td>\n",
       "      <td>0</td>\n",
       "      <td>0</td>\n",
       "    </tr>\n",
       "    <tr>\n",
       "      <th>2</th>\n",
       "      <td>35.0</td>\n",
       "      <td>35.0</td>\n",
       "      <td>30.680421</td>\n",
       "      <td>32.074985</td>\n",
       "      <td>34.585201</td>\n",
       "      <td>248</td>\n",
       "      <td>220</td>\n",
       "      <td>230</td>\n",
       "      <td>71</td>\n",
       "      <td>62</td>\n",
       "      <td>...</td>\n",
       "      <td>1</td>\n",
       "      <td>0</td>\n",
       "      <td>1</td>\n",
       "      <td>0</td>\n",
       "      <td>0</td>\n",
       "      <td>1</td>\n",
       "      <td>0</td>\n",
       "      <td>1</td>\n",
       "      <td>0</td>\n",
       "      <td>0</td>\n",
       "    </tr>\n",
       "    <tr>\n",
       "      <th>3</th>\n",
       "      <td>11.0</td>\n",
       "      <td>33.0</td>\n",
       "      <td>18.792604</td>\n",
       "      <td>24.117175</td>\n",
       "      <td>23.490755</td>\n",
       "      <td>150</td>\n",
       "      <td>120</td>\n",
       "      <td>154</td>\n",
       "      <td>67</td>\n",
       "      <td>57</td>\n",
       "      <td>...</td>\n",
       "      <td>1</td>\n",
       "      <td>0</td>\n",
       "      <td>1</td>\n",
       "      <td>0</td>\n",
       "      <td>1</td>\n",
       "      <td>0</td>\n",
       "      <td>1</td>\n",
       "      <td>0</td>\n",
       "      <td>0</td>\n",
       "      <td>0</td>\n",
       "    </tr>\n",
       "    <tr>\n",
       "      <th>4</th>\n",
       "      <td>0.0</td>\n",
       "      <td>0.0</td>\n",
       "      <td>26.541837</td>\n",
       "      <td>27.976531</td>\n",
       "      <td>31.993673</td>\n",
       "      <td>223</td>\n",
       "      <td>185</td>\n",
       "      <td>195</td>\n",
       "      <td>70</td>\n",
       "      <td>56</td>\n",
       "      <td>...</td>\n",
       "      <td>1</td>\n",
       "      <td>0</td>\n",
       "      <td>1</td>\n",
       "      <td>0</td>\n",
       "      <td>0</td>\n",
       "      <td>1</td>\n",
       "      <td>1</td>\n",
       "      <td>0</td>\n",
       "      <td>0</td>\n",
       "      <td>0</td>\n",
       "    </tr>\n",
       "  </tbody>\n",
       "</table>\n",
       "<p>5 rows × 116 columns</p>\n",
       "</div>"
      ],
      "text/plain": [
       "   cig_years  pack_years     bmi_20     bmi_50   bmi_curr  weight_f  \\\n",
       "0        0.0         0.0  26.383937  29.022331  25.724339       195   \n",
       "1        8.0        24.0  22.313033  27.891291  25.659988       184   \n",
       "2       35.0        35.0  30.680421  32.074985  34.585201       248   \n",
       "3       11.0        33.0  18.792604  24.117175  23.490755       150   \n",
       "4        0.0         0.0  26.541837  27.976531  31.993673       223   \n",
       "\n",
       "   weight20_f  weight50_f  height_f  age  ...  colon_comorbidity_0  \\\n",
       "0         200         220        73   67  ...                    1   \n",
       "1         160         200        71   62  ...                    1   \n",
       "2         220         230        71   62  ...                    1   \n",
       "3         120         154        67   57  ...                    1   \n",
       "4         185         195        70   56  ...                    1   \n",
       "\n",
       "   colon_comorbidity_1  liver_comorbidity_0  liver_comorbidity_1  fh_cancer_0  \\\n",
       "0                    0                    1                    0            0   \n",
       "1                    0                    1                    0            0   \n",
       "2                    0                    1                    0            0   \n",
       "3                    0                    1                    0            1   \n",
       "4                    0                    1                    0            0   \n",
       "\n",
       "   fh_cancer_1  agelevel_0  agelevel_1  agelevel_2  agelevel_3  \n",
       "0            1           0           0           1           0  \n",
       "1            1           0           1           0           0  \n",
       "2            1           0           1           0           0  \n",
       "3            0           1           0           0           0  \n",
       "4            1           1           0           0           0  \n",
       "\n",
       "[5 rows x 116 columns]"
      ]
     },
     "execution_count": 101,
     "metadata": {},
     "output_type": "execute_result"
    }
   ],
   "source": [
    "#One-Hot Encoding\n",
    "X_encoded = pd.get_dummies(X, columns= ['pipe',\t'cigar',\t'asp',\t'ibup',\t'asppd',\t'ibuppd',\t'hyperten_f',\t'hearta_f',\t'stroke_f',\t'emphys_f',\t'bronchit_f',\t'diabetes_f',\t'polyps_f',\t'arthrit_f',\t'osteopor_f',\t'divertic_f',\t'gallblad_f',\t'race7',\t'hispanic_f',\t'enlpros_f',\t'infpros_f',\t'prosprob_f',\t'urinate_f',\t'vasect_f',\t'smoked_f', 'cigpd_f',\t'cig_stat', 'bmi_curc', 'bmi_20c',\t'bmi_50c',\t'colon_comorbidity',\t'liver_comorbidity',\t'fh_cancer', 'agelevel'])\n",
    "X_encoded.head()"
   ]
  },
  {
   "cell_type": "markdown",
   "metadata": {
    "id": "ZBuUwzqT2nDz"
   },
   "source": [
    "# Feature selection"
   ]
  },
  {
   "cell_type": "code",
   "execution_count": 102,
   "metadata": {
    "colab": {
     "base_uri": "https://localhost:8080/",
     "height": 677
    },
    "id": "ODgsKzvy2ped",
    "outputId": "7549415a-0828-4755-94da-2adf85ca9239",
    "scrolled": true
   },
   "outputs": [
    {
     "data": {
      "text/plain": [
       "<Figure size 864x720 with 0 Axes>"
      ]
     },
     "metadata": {},
     "output_type": "display_data"
    }
   ],
   "source": [
    "#Using Pearson Correlation\n",
    "plt.figure(figsize=(12,10))\n",
    "cor = df.corr().abs()\n",
    "# sns.heatmap(cor, annot=True, cmap=plt.cm.Reds)\n",
    "#plt.show()"
   ]
  },
  {
   "cell_type": "code",
   "execution_count": 103,
   "metadata": {},
   "outputs": [],
   "source": [
    "#Correlation with output variable\n",
    "cor_target = abs(cor[\"mbreast_cancer\"])"
   ]
  },
  {
   "cell_type": "code",
   "execution_count": 104,
   "metadata": {},
   "outputs": [
    {
     "name": "stdout",
     "output_type": "stream",
     "text": [
      "Top Absolute Correlations\n"
     ]
    },
    {
     "ename": "TypeError",
     "evalue": "corr() missing 1 required positional argument: 'other'",
     "output_type": "error",
     "traceback": [
      "\u001b[1;31m---------------------------------------------------------------------------\u001b[0m",
      "\u001b[1;31mTypeError\u001b[0m                                 Traceback (most recent call last)",
      "\u001b[1;32m<ipython-input-104-6c8e19b243ea>\u001b[0m in \u001b[0;36m<module>\u001b[1;34m\u001b[0m\n\u001b[0;32m     15\u001b[0m \u001b[1;33m\u001b[0m\u001b[0m\n\u001b[0;32m     16\u001b[0m \u001b[0mprint\u001b[0m\u001b[1;33m(\u001b[0m\u001b[1;34m\"Top Absolute Correlations\"\u001b[0m\u001b[1;33m)\u001b[0m\u001b[1;33m\u001b[0m\u001b[1;33m\u001b[0m\u001b[0m\n\u001b[1;32m---> 17\u001b[1;33m \u001b[0mprint\u001b[0m\u001b[1;33m(\u001b[0m\u001b[0mget_top_abs_correlations\u001b[0m\u001b[1;33m(\u001b[0m\u001b[0mmb\u001b[0m\u001b[1;33m,\u001b[0m \u001b[1;36m3\u001b[0m\u001b[1;33m)\u001b[0m\u001b[1;33m)\u001b[0m\u001b[1;33m\u001b[0m\u001b[1;33m\u001b[0m\u001b[0m\n\u001b[0m",
      "\u001b[1;32m<ipython-input-104-6c8e19b243ea>\u001b[0m in \u001b[0;36mget_top_abs_correlations\u001b[1;34m(df, n)\u001b[0m\n\u001b[0;32m      9\u001b[0m \u001b[1;33m\u001b[0m\u001b[0m\n\u001b[0;32m     10\u001b[0m \u001b[1;32mdef\u001b[0m \u001b[0mget_top_abs_correlations\u001b[0m\u001b[1;33m(\u001b[0m\u001b[0mdf\u001b[0m\u001b[1;33m,\u001b[0m \u001b[0mn\u001b[0m\u001b[1;33m=\u001b[0m\u001b[1;36m5\u001b[0m\u001b[1;33m)\u001b[0m\u001b[1;33m:\u001b[0m\u001b[1;33m\u001b[0m\u001b[1;33m\u001b[0m\u001b[0m\n\u001b[1;32m---> 11\u001b[1;33m     \u001b[0mau_corr\u001b[0m \u001b[1;33m=\u001b[0m \u001b[0mdf\u001b[0m\u001b[1;33m.\u001b[0m\u001b[0mcorr\u001b[0m\u001b[1;33m(\u001b[0m\u001b[1;33m)\u001b[0m\u001b[1;33m.\u001b[0m\u001b[0mabs\u001b[0m\u001b[1;33m(\u001b[0m\u001b[1;33m)\u001b[0m\u001b[1;33m.\u001b[0m\u001b[0munstack\u001b[0m\u001b[1;33m(\u001b[0m\u001b[1;33m)\u001b[0m\u001b[1;33m\u001b[0m\u001b[1;33m\u001b[0m\u001b[0m\n\u001b[0m\u001b[0;32m     12\u001b[0m     \u001b[0mlabels_to_drop\u001b[0m \u001b[1;33m=\u001b[0m \u001b[0mget_redundant_pairs\u001b[0m\u001b[1;33m(\u001b[0m\u001b[0mdf\u001b[0m\u001b[1;33m)\u001b[0m\u001b[1;33m\u001b[0m\u001b[1;33m\u001b[0m\u001b[0m\n\u001b[0;32m     13\u001b[0m     \u001b[0mau_corr\u001b[0m \u001b[1;33m=\u001b[0m \u001b[0mau_corr\u001b[0m\u001b[1;33m.\u001b[0m\u001b[0mdrop\u001b[0m\u001b[1;33m(\u001b[0m\u001b[0mlabels\u001b[0m\u001b[1;33m=\u001b[0m\u001b[0mlabels_to_drop\u001b[0m\u001b[1;33m)\u001b[0m\u001b[1;33m.\u001b[0m\u001b[0msort_values\u001b[0m\u001b[1;33m(\u001b[0m\u001b[0mascending\u001b[0m\u001b[1;33m=\u001b[0m\u001b[1;32mFalse\u001b[0m\u001b[1;33m)\u001b[0m\u001b[1;33m\u001b[0m\u001b[1;33m\u001b[0m\u001b[0m\n",
      "\u001b[1;31mTypeError\u001b[0m: corr() missing 1 required positional argument: 'other'"
     ]
    }
   ],
   "source": [
    "def get_redundant_pairs(df):\n",
    "    '''Get diagonal and lower triangular pairs of correlation matrix'''\n",
    "    pairs_to_drop = set()\n",
    "    cols = df.columns\n",
    "    for i in range(0, df.shape[1]):\n",
    "        for j in range(0, i+1):\n",
    "            pairs_to_drop.add((cols[i], cols[j]))\n",
    "    return pairs_to_drop\n",
    "\n",
    "def get_top_abs_correlations(df, n=5):\n",
    "    au_corr = df.corr().abs().unstack()\n",
    "    labels_to_drop = get_redundant_pairs(df)\n",
    "    au_corr = au_corr.drop(labels=labels_to_drop).sort_values(ascending=False)\n",
    "    return au_corr[0:n]\n",
    "\n",
    "print(\"Top Absolute Correlations\")\n",
    "print(get_top_abs_correlations(mb, 3))"
   ]
  },
  {
   "cell_type": "code",
   "execution_count": null,
   "metadata": {},
   "outputs": [],
   "source": [
    "mb=df[df.columns[:]].corr()['mbreast_cancer'][:]"
   ]
  },
  {
   "cell_type": "code",
   "execution_count": null,
   "metadata": {},
   "outputs": [],
   "source": [
    "# sunstack = cor.unstack()\n",
    "so = mb.sort_values(ascending=False, kind=\"quicksort\")"
   ]
  },
  {
   "cell_type": "code",
   "execution_count": null,
   "metadata": {},
   "outputs": [],
   "source": []
  },
  {
   "cell_type": "code",
   "execution_count": null,
   "metadata": {},
   "outputs": [],
   "source": [
    "print(so.head)"
   ]
  },
  {
   "cell_type": "code",
   "execution_count": null,
   "metadata": {},
   "outputs": [],
   "source": [
    "ct = cor_target.values\n",
    "ct.argsort()"
   ]
  },
  {
   "cell_type": "code",
   "execution_count": null,
   "metadata": {
    "colab": {
     "base_uri": "https://localhost:8080/"
    },
    "id": "fUvtmwqH3Dx9",
    "outputId": "f80d6169-45d7-4cf4-d8a1-28d295665c06"
   },
   "outputs": [],
   "source": [
    "\n",
    "#Selecting highly correlated features\n",
    "relevant_features = cor_target[cor_target>0.1]\n",
    "relevant_features"
   ]
  },
  {
   "cell_type": "markdown",
   "metadata": {
    "id": "QkXhblpT3fMb"
   },
   "source": [
    "# Spliting and Scaling\n",
    "At this point we know that there's no feature's correlation that is larger than 0.5 for the variable mbreast_cancer in the original data frame.\n"
   ]
  },
  {
   "cell_type": "code",
   "execution_count": 105,
   "metadata": {
    "colab": {
     "base_uri": "https://localhost:8080/"
    },
    "id": "yGvJXxoYJyAD",
    "outputId": "8848830f-82bc-494a-c4fc-a4d75c38ccdb"
   },
   "outputs": [],
   "source": [
    "X_train, X_test, y_train, y_test = train_test_split(X_encoded, y, random_state=42)\n",
    "#X_train_smote, y_train_smote = smote.fit_sample(X_train.astype('float'), y_train)\n",
    "\n",
    "# Stantardization\n",
    "\n",
    "from sklearn.preprocessing import StandardScaler\n",
    "scaler = StandardScaler()\n",
    "\n",
    "# Fit on training set only.\n",
    "scaler.fit(X_train)\n",
    "\n",
    "# Apply transform to both the training set and the test set.\n",
    "X_train = scaler.transform(X_train)\n",
    "X_test = scaler.transform(X_test)\n",
    "\n"
   ]
  },
  {
   "cell_type": "code",
   "execution_count": 132,
   "metadata": {},
   "outputs": [
    {
     "ename": "AttributeError",
     "evalue": "'numpy.ndarray' object has no attribute 'describe'",
     "output_type": "error",
     "traceback": [
      "\u001b[1;31m---------------------------------------------------------------------------\u001b[0m",
      "\u001b[1;31mAttributeError\u001b[0m                            Traceback (most recent call last)",
      "\u001b[1;32m<ipython-input-132-bec2ed01d95d>\u001b[0m in \u001b[0;36m<module>\u001b[1;34m\u001b[0m\n\u001b[1;32m----> 1\u001b[1;33m \u001b[0mX_train\u001b[0m\u001b[1;33m.\u001b[0m\u001b[0mdescribe\u001b[0m\u001b[1;33m\u001b[0m\u001b[1;33m\u001b[0m\u001b[0m\n\u001b[0m",
      "\u001b[1;31mAttributeError\u001b[0m: 'numpy.ndarray' object has no attribute 'describe'"
     ]
    }
   ],
   "source": []
  },
  {
   "cell_type": "markdown",
   "metadata": {
    "id": "OB4aEXhwXvP1"
   },
   "source": [
    "# Preliminary Classificaiton Tree"
   ]
  },
  {
   "cell_type": "code",
   "execution_count": 106,
   "metadata": {
    "colab": {
     "base_uri": "https://localhost:8080/"
    },
    "id": "9TO0v1s0KaUw",
    "outputId": "c69f4df3-af47-4af8-d7e7-b9d5f6b6e10a"
   },
   "outputs": [
    {
     "name": "stdout",
     "output_type": "stream",
     "text": [
      "Before SMOTE :  Counter({0: 41013, 1: 18})\n",
      "After SMOTE :  Counter({0: 41013, 1: 41013})\n"
     ]
    }
   ],
   "source": [
    "from collections import Counter\n",
    "from imblearn.over_sampling import SMOTE\n",
    "smote = SMOTE()\n",
    "X_train_smote, y_train_smote = smote.fit_resample(X_train, y_train)\n",
    "print(\"Before SMOTE : \", Counter(y_train))\n",
    "print(\"After SMOTE : \", Counter(y_train_smote))"
   ]
  },
  {
   "cell_type": "code",
   "execution_count": 116,
   "metadata": {
    "id": "eR2uCS88LoRi"
   },
   "outputs": [],
   "source": [
    "clf_dt = DecisionTreeClassifier(random_state=42 )\n",
    "clf_dt = clf_dt.fit(X_train_smote, y_train_smote)\n",
    "#clf = classifier"
   ]
  },
  {
   "cell_type": "code",
   "execution_count": 108,
   "metadata": {
    "id": "LAscXxQYZu7W"
   },
   "outputs": [
    {
     "data": {
      "image/png": "[encoded data removed]",
      "text/plain": [
       "<Figure size 1080x1080 with 1 Axes>"
      ]
     },
     "metadata": {
      "needs_background": "light"
     },
     "output_type": "display_data"
    }
   ],
   "source": [
    "#DRAW the DECISION TREE \n",
    "plt.figure(figsize=(15, 15)) # default unit is inch\n",
    "plot_tree(\n",
    "    clf_dt,\n",
    "    filled = True,\n",
    "    rounded = True,\n",
    "    class_names = [\"No MBC\", \"Yes MBC\"],\n",
    "    feature_names= X_encoded.columns\n",
    ");"
   ]
  },
  {
   "cell_type": "code",
   "execution_count": 109,
   "metadata": {
    "id": "CbxGwejsrdCH"
   },
   "outputs": [
    {
     "name": "stdout",
     "output_type": "stream",
     "text": [
      "Testing Accuracy =  0.9985376910141113\n"
     ]
    },
    {
     "data": {
      "image/png": "[encoded data removed]",
      "text/plain": [
       "<Figure size 432x288 with 2 Axes>"
      ]
     },
     "metadata": {
      "needs_background": "light"
     },
     "output_type": "display_data"
    },
    {
     "data": {
      "image/png": "[encoded data removed]",
      "text/plain": [
       "<Figure size 432x288 with 2 Axes>"
      ]
     },
     "metadata": {
      "needs_background": "light"
     },
     "output_type": "display_data"
    }
   ],
   "source": [
    "plot_confusion_matrix(clf_dt, X_test, y_test, display_labels=[\"Does not have MBC\", \"Has MBC\"])\n",
    "\n",
    "from sklearn.metrics import confusion_matrix\n",
    "plot_confusion_matrix(clf_dt,\n",
    "                      X_test,\n",
    "                      y_test,\n",
    "                      display_labels=[\"Does not have MBC\", \"Has MBC\"])\n",
    "cm = confusion_matrix(y_test, clf_dt.predict(X_test))\n",
    "TP = cm[0][0]\n",
    "TN = cm[1][1]\n",
    "FN = cm[1][0]\n",
    "FP = cm[0][1]\n",
    "print('Testing Accuracy = ', (TP + TN)/(TP + TN + FN + FP))\n",
    "\n",
    "# 0.9985"
   ]
  },
  {
   "cell_type": "code",
   "execution_count": 119,
   "metadata": {},
   "outputs": [],
   "source": [
    "tree_preds= clf_dt.predict(X_test)"
   ]
  },
  {
   "cell_type": "code",
   "execution_count": 121,
   "metadata": {},
   "outputs": [],
   "source": [
    "treeROC = round(roc_auc_score(y_test, tree_preds),10)\n"
   ]
  },
  {
   "cell_type": "code",
   "execution_count": 122,
   "metadata": {},
   "outputs": [
    {
     "name": "stdout",
     "output_type": "stream",
     "text": [
      "0.4995245062\n"
     ]
    }
   ],
   "source": [
    "print(treeROC)\n",
    "#0.4995245062 # 0.9985"
   ]
  },
  {
   "cell_type": "markdown",
   "metadata": {
    "id": "Dmv_jrkWtd3I"
   },
   "source": [
    "## Pruning"
   ]
  },
  {
   "cell_type": "code",
   "execution_count": 133,
   "metadata": {
    "id": "wpwRQDDptc_4"
   },
   "outputs": [],
   "source": [
    "path = clf_dt.cost_complexity_pruning_path(X_train_smote, y_train_smote)\n",
    "ccp_alphas = path.ccp_alphas # extract different values for alphas\n",
    "ccp_alphas = ccp_alphas[:-1] # exclude maximum value\n",
    "clf_dts = []\n",
    "\n",
    "for ccp_alpha in ccp_alphas:\n",
    "  clf_dt = DecisionTreeClassifier(random_state=0, ccp_alpha=ccp_alpha)\n",
    "  clf_dt.fit(X_train_smote, y_train_smote)\n",
    "  clf_dts.append(clf_dt)"
   ]
  },
  {
   "cell_type": "code",
   "execution_count": null,
   "metadata": {
    "id": "xTp5095WuqmP"
   },
   "outputs": [],
   "source": [
    "#Drawing graph\n",
    "train_scores = [clf_dt.score(X_train_smote, y_train_smote) for clf_dt in clf_dts]\n",
    "test_scores = [clf_dt.score(X_test, y_test) for clf_dt in clf_dts]\n",
    "# Select the highest accuracy of alpha, in this case, 0.032\n",
    "flg, ax = plt.subplots() #unpack this tuple into the variables fig and ax\n",
    "ax.set_xlabel(\"alpha\")\n",
    "ax.set_ylabel(\"accuracy\")\n",
    "ax.set_title(\"Accuracy vs alpha for training and testing sets\")\n",
    "ax.plot(ccp_alphas, train_scores, marker='o', label='train', drawstyle = 'steps-post')\n",
    "ax.plot(ccp_alphas, test_scores, marker='o', label='test', drawstyle = 'steps-post')\n",
    "ax.legend()#Automatic detection of elements to be shown in the legend\n",
    "plt.show()"
   ]
  },
  {
   "cell_type": "markdown",
   "metadata": {
    "id": "hdNzNovVHddQ"
   },
   "source": [
    "Alpha: 0.032"
   ]
  },
  {
   "cell_type": "code",
   "execution_count": null,
   "metadata": {
    "id": "LKsQxqqMIbb_"
   },
   "outputs": [],
   "source": [
    "#Lets try 5 fold cross validation and see what will happen\n",
    "\n",
    "clf_dt = DecisionTreeClassifier(random_state=42, ccp_alpha=0.032)\n",
    "scores = cross_val_score(clf_dt, X_train_smote, y_train_smote, cv=5)\n",
    "df = pd.DataFrame(data={'tree':range(5), 'accuracy': scores})\n",
    "\n",
    "df.plot(x='tree', y='accuracy', marker='o', linestyle='--')\n"
   ]
  },
  {
   "cell_type": "code",
   "execution_count": null,
   "metadata": {
    "id": "1h2XYlvNYVh5"
   },
   "outputs": [],
   "source": [
    "# Looking for the optimal alpha value\n",
    "\n",
    "alpha_loop_values=[]\n",
    "#Run each alpha value for 5-fold cross validation\n",
    "#then store mean and standard deviation of the scores (accuracy) to cross_val_score\n",
    "#in alpha_loop_values\n",
    "for ccp_alpha in ccp_alphas:\n",
    "  clf_dt = DecisionTreeClassifier(random_state=0, ccp_alpha=ccp_alpha)\n",
    "  scores = cross_val_score(clf_dt, X_train_smote, y_train_smote, cv=5)\n",
    "  alpha_loop_values.append([ccp_alpha, np.mean(scores), np.std(scores)])\n",
    "# draw a graph for them\n",
    "alpha_results = pd.DataFrame(alpha_loop_values, columns=['alpha', 'mean_accuracy', 'std'])\n",
    "\n",
    "alpha_plot = alpha_results.plot(\n",
    "    x='alpha',\n",
    "    y='mean_accuracy',\n",
    "    yerr='std',\n",
    "    marker='o',\n",
    "    linestyle='--'\n",
    "   \n",
    ")\n"
   ]
  },
  {
   "cell_type": "code",
   "execution_count": null,
   "metadata": {
    "id": "qp2W4lb2dGMB"
   },
   "outputs": [],
   "source": [
    "# ideal_ccp_alpha = 1.4E-5\n",
    "# 0.999488191854939 with 1.4E+5\n",
    "# 0.9992688455070556 with 1.4E-5\n",
    "# 0.999488191854939 with 1.4"
   ]
  },
  {
   "cell_type": "code",
   "execution_count": null,
   "metadata": {
    "id": "QRYxEX4cgW7a"
   },
   "outputs": [],
   "source": [
    "# #Build again\n",
    "# clf_dt_pruned = DecisionTreeClassifier(random_state=42, ccp_alpha=ideal_ccp_alpha)\n",
    "# clf_dt_pruned = clf_dt_pruned.fit(X_train_smote, y_train_smote)"
   ]
  },
  {
   "cell_type": "code",
   "execution_count": null,
   "metadata": {
    "id": "T-ibFIGwiWdk"
   },
   "outputs": [],
   "source": [
    "# from sklearn.metrics import confusion_matrix\n",
    "# plot_confusion_matrix(clf_dt_pruned,\n",
    "#                       X_test,\n",
    "#                       y_test,\n",
    "#                       display_labels=[\"Does not have MBC\", \"Has MBC\"])\n",
    "# cm = confusion_matrix(y_test, clf_dt_pruned.predict(X_test))\n",
    "# TP = cm[0][0]\n",
    "# TN = cm[1][1]\n",
    "# FN = cm[1][0]\n",
    "# FP = cm[0][1]\n",
    "# print('Testing Accuracy = ', (TP + TN)/(TP + TN + FN + FP))"
   ]
  },
  {
   "cell_type": "code",
   "execution_count": null,
   "metadata": {
    "id": "yn4UmYc9jAy0"
   },
   "outputs": [],
   "source": [
    "# plt.figure(figsize=(15,15))\n",
    "# plot_tree(clf_dt_pruned,\n",
    "#           filled=True,\n",
    "#           rounded=True,\n",
    "#           class_names=[\"No MBC\", \"Yes MBC\"],\n",
    "#           feature_names=X_encoded.columns);"
   ]
  },
  {
   "cell_type": "markdown",
   "metadata": {
    "id": "AQAVGTiJiI9O"
   },
   "source": [
    "# Random Forest"
   ]
  },
  {
   "cell_type": "code",
   "execution_count": 134,
   "metadata": {
    "id": "TOH4PyfNiIUe"
   },
   "outputs": [],
   "source": [
    "from sklearn.metrics import confusion_matrix, ConfusionMatrixDisplay\n",
    "from sklearn.metrics import plot_confusion_matrix\n",
    "from sklearn.metrics import accuracy_score\n",
    "from sklearn.metrics import roc_auc_score\n",
    "from sklearn.ensemble import RandomForestClassifier\n",
    "\n",
    "clf = RandomForestClassifier(max_depth=2, random_state=42, class_weight='balanced').fit(X_train_smote,y_train_smote)"
   ]
  },
  {
   "cell_type": "code",
   "execution_count": 135,
   "metadata": {
    "colab": {
     "base_uri": "https://localhost:8080/",
     "height": 419
    },
    "id": "EuKL1YyVihaf",
    "outputId": "3c20527b-54c4-4a4b-84fe-2ace11ba2bd1",
    "scrolled": true
   },
   "outputs": [
    {
     "data": {
      "text/html": [
       "<div>\n",
       "<style scoped>\n",
       "    .dataframe tbody tr th:only-of-type {\n",
       "        vertical-align: middle;\n",
       "    }\n",
       "\n",
       "    .dataframe tbody tr th {\n",
       "        vertical-align: top;\n",
       "    }\n",
       "\n",
       "    .dataframe thead th {\n",
       "        text-align: right;\n",
       "    }\n",
       "</style>\n",
       "<table border=\"1\" class=\"dataframe\">\n",
       "  <thead>\n",
       "    <tr style=\"text-align: right;\">\n",
       "      <th></th>\n",
       "      <th>0</th>\n",
       "    </tr>\n",
       "  </thead>\n",
       "  <tbody>\n",
       "    <tr>\n",
       "      <th>0</th>\n",
       "      <td>0.660452</td>\n",
       "    </tr>\n",
       "    <tr>\n",
       "      <th>1</th>\n",
       "      <td>0.760134</td>\n",
       "    </tr>\n",
       "    <tr>\n",
       "      <th>2</th>\n",
       "      <td>0.682660</td>\n",
       "    </tr>\n",
       "    <tr>\n",
       "      <th>3</th>\n",
       "      <td>0.706170</td>\n",
       "    </tr>\n",
       "    <tr>\n",
       "      <th>4</th>\n",
       "      <td>0.549358</td>\n",
       "    </tr>\n",
       "    <tr>\n",
       "      <th>...</th>\n",
       "      <td>...</td>\n",
       "    </tr>\n",
       "    <tr>\n",
       "      <th>13672</th>\n",
       "      <td>0.740256</td>\n",
       "    </tr>\n",
       "    <tr>\n",
       "      <th>13673</th>\n",
       "      <td>0.658098</td>\n",
       "    </tr>\n",
       "    <tr>\n",
       "      <th>13674</th>\n",
       "      <td>0.602902</td>\n",
       "    </tr>\n",
       "    <tr>\n",
       "      <th>13675</th>\n",
       "      <td>0.818394</td>\n",
       "    </tr>\n",
       "    <tr>\n",
       "      <th>13676</th>\n",
       "      <td>0.494907</td>\n",
       "    </tr>\n",
       "  </tbody>\n",
       "</table>\n",
       "<p>13677 rows × 1 columns</p>\n",
       "</div>"
      ],
      "text/plain": [
       "              0\n",
       "0      0.660452\n",
       "1      0.760134\n",
       "2      0.682660\n",
       "3      0.706170\n",
       "4      0.549358\n",
       "...         ...\n",
       "13672  0.740256\n",
       "13673  0.658098\n",
       "13674  0.602902\n",
       "13675  0.818394\n",
       "13676  0.494907\n",
       "\n",
       "[13677 rows x 1 columns]"
      ]
     },
     "execution_count": 135,
     "metadata": {},
     "output_type": "execute_result"
    }
   ],
   "source": [
    "clf_preds=pd.DataFrame(clf.predict(X_test))\n",
    "clf_pred_probs=pd.DataFrame(clf.predict_proba(X_test)[:,0])\n",
    "#clf_preds\n",
    "clf_pred_probs\n"
   ]
  },
  {
   "cell_type": "code",
   "execution_count": 136,
   "metadata": {
    "scrolled": true
   },
   "outputs": [
    {
     "data": {
      "text/html": [
       "<div>\n",
       "<style scoped>\n",
       "    .dataframe tbody tr th:only-of-type {\n",
       "        vertical-align: middle;\n",
       "    }\n",
       "\n",
       "    .dataframe tbody tr th {\n",
       "        vertical-align: top;\n",
       "    }\n",
       "\n",
       "    .dataframe thead th {\n",
       "        text-align: right;\n",
       "    }\n",
       "</style>\n",
       "<table border=\"1\" class=\"dataframe\">\n",
       "  <thead>\n",
       "    <tr style=\"text-align: right;\">\n",
       "      <th></th>\n",
       "      <th>0</th>\n",
       "    </tr>\n",
       "  </thead>\n",
       "  <tbody>\n",
       "    <tr>\n",
       "      <th>count</th>\n",
       "      <td>13677.000000</td>\n",
       "    </tr>\n",
       "    <tr>\n",
       "      <th>mean</th>\n",
       "      <td>0.163559</td>\n",
       "    </tr>\n",
       "    <tr>\n",
       "      <th>std</th>\n",
       "      <td>0.369889</td>\n",
       "    </tr>\n",
       "    <tr>\n",
       "      <th>min</th>\n",
       "      <td>0.000000</td>\n",
       "    </tr>\n",
       "    <tr>\n",
       "      <th>25%</th>\n",
       "      <td>0.000000</td>\n",
       "    </tr>\n",
       "    <tr>\n",
       "      <th>50%</th>\n",
       "      <td>0.000000</td>\n",
       "    </tr>\n",
       "    <tr>\n",
       "      <th>75%</th>\n",
       "      <td>0.000000</td>\n",
       "    </tr>\n",
       "    <tr>\n",
       "      <th>max</th>\n",
       "      <td>1.000000</td>\n",
       "    </tr>\n",
       "  </tbody>\n",
       "</table>\n",
       "</div>"
      ],
      "text/plain": [
       "                  0\n",
       "count  13677.000000\n",
       "mean       0.163559\n",
       "std        0.369889\n",
       "min        0.000000\n",
       "25%        0.000000\n",
       "50%        0.000000\n",
       "75%        0.000000\n",
       "max        1.000000"
      ]
     },
     "execution_count": 136,
     "metadata": {},
     "output_type": "execute_result"
    }
   ],
   "source": [
    "clf_preds.describe()"
   ]
  },
  {
   "cell_type": "code",
   "execution_count": null,
   "metadata": {
    "colab": {
     "base_uri": "https://localhost:8080/"
    },
    "id": "wZfeRcZji7dm",
    "outputId": "f719fa5b-249a-465c-b947-ca73932c53fd"
   },
   "outputs": [],
   "source": [
    "confusion_matrix(y_test,clf_preds)"
   ]
  },
  {
   "cell_type": "code",
   "execution_count": null,
   "metadata": {
    "colab": {
     "base_uri": "https://localhost:8080/"
    },
    "id": "4iYBqtPLjFcu",
    "outputId": "7dbac6b6-73e9-4277-cfa9-321d9d6cf14f"
   },
   "outputs": [],
   "source": [
    "accuracy_score(y_test,clf_preds)\n",
    "#0.8394384733494187"
   ]
  },
  {
   "cell_type": "code",
   "execution_count": null,
   "metadata": {
    "colab": {
     "base_uri": "https://localhost:8080/"
    },
    "id": "cN24IazpjIYu",
    "outputId": "4ae36c56-b9db-44af-9e50-4c10cb60319b"
   },
   "outputs": [],
   "source": [
    "roc_auc_score(y_test,clf_preds)\n",
    "# AUC (Area Under The Curve)\n",
    "# ROC (Receiver Operating Characteristics) \n",
    "# AUROC (Area Under the Receiver Operating Characteristics)\n",
    "# 0.6341101473508204"
   ]
  },
  {
   "cell_type": "markdown",
   "metadata": {
    "id": "JHdwHdXUj2pZ"
   },
   "source": [
    "the Higher the AUC, the better the model is at distinguishing between patients with the disease and no disease.\n",
    "\n",
    "AUC is useful when the dataset is skewed like mine\n",
    "\n",
    "![image.png](data:image/png;base64,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)"
   ]
  },
  {
   "cell_type": "markdown",
   "metadata": {
    "id": "rDoRnnYikqyn"
   },
   "source": [
    "Understanding AUC-ROC:\n",
    "https://towardsdatascience.com/understanding-auc-roc-curve-68b2303cc9c5"
   ]
  },
  {
   "cell_type": "code",
   "execution_count": null,
   "metadata": {
    "colab": {
     "base_uri": "https://localhost:8080/",
     "height": 295
    },
    "id": "9qYYflEwkgMJ",
    "outputId": "431a7242-26d5-4529-853a-eaa45304529d",
    "scrolled": true
   },
   "outputs": [],
   "source": [
    "plot_confusion_matrix(clf, X_test, y_test) \n",
    "plt.title(\"Confusion Matrix for Classification\")\n",
    "plt.show()  "
   ]
  },
  {
   "cell_type": "markdown",
   "metadata": {
    "id": "Xxx2I_j5qu8W"
   },
   "source": [
    "# PCA\n",
    "\n",
    "Principal Component Analysis (PCA) is an unsupervised, non-parametric statistical technique primarily used for dimensionality reduction in machine learning.\n",
    "\n",
    "https://medium.com/apprentice-journal/pca-application-in-machine-learning-4827c07a61db\n",
    "\n",
    "PCA should be used mainly for variables which are strongly correlated. If the relationship is weak between variables, PCA does not work well to reduce data. Refer to the correlation matrix to determine. In general, if most of the correlation coefficients are smaller than 0.3, PCA will not help.\n",
    "\n",
    "https://www.originlab.com/doc/Origin-Help/PrincipleComp-Analysis\n"
   ]
  },
  {
   "cell_type": "code",
   "execution_count": null,
   "metadata": {
    "colab": {
     "base_uri": "https://localhost:8080/",
     "height": 530
    },
    "id": "P1J6mRD6uP_q",
    "outputId": "4dab023f-82cc-49df-f7ac-7b432e031905"
   },
   "outputs": [],
   "source": [
    "# find n components to explain variance.\n",
    "# Code source: https://www.mikulskibartosz.name/pca-how-to-choose-the-number-of-components/\n",
    "from sklearn.decomposition import PCA\n",
    "from sklearn.preprocessing import MinMaxScaler\n",
    "scaler = MinMaxScaler()\n",
    "data_rescaled = scaler.fit_transform(X_train)\n",
    "pca = PCA().fit(data_rescaled)\n",
    "\n",
    "% matplotlib inline\n",
    "import matplotlib.pyplot as plt\n",
    "plt.rcParams[\"figure.figsize\"] = (24,12)\n",
    "\n",
    "fig, ax = plt.subplots()\n",
    "xi = np.arange(1, 117, step=1)\n",
    "# The number is to match y\n",
    "y = np.cumsum(pca.explained_variance_ratio_) \n",
    "# (explained_variance_ratio_)\n",
    "# Percentage of variance explained by each of the selected components.\n",
    "# np.cumsum\n",
    "# Return the cumulative sum of the elements along a given axis.\n",
    "\n",
    "\n",
    "plt.ylim(0.0,1.1)\n",
    "plt.plot(xi, y, marker='o', linestyle='--', color='b')\n",
    "\n",
    "plt.xlabel('Number of Components')\n",
    "plt.xticks(np.arange(0, 117, step=1)) #change from 0-based array index to 1-based human-readable label\n",
    "plt.ylabel('Cumulative variance (%)')\n",
    "plt.title('The number of components needed to explain variance')\n",
    "\n",
    "plt.axhline(y=0.95, color='r', linestyle='-')\n",
    "plt.text(0.5, 0.85, '95% cut-off threshold', color = 'red', fontsize=16)\n",
    "\n",
    "ax.grid(axis='x')\n",
    "plt.show()\n",
    "\n",
    "# 43 number of components."
   ]
  },
  {
   "cell_type": "code",
   "execution_count": 142,
   "metadata": {
    "colab": {
     "base_uri": "https://localhost:8080/"
    },
    "id": "s1HIrnvkh-XU",
    "outputId": "c68532f7-b58a-4e43-ec96-462efdd9e6cb"
   },
   "outputs": [
    {
     "data": {
      "text/plain": [
       "(41031, 116)"
      ]
     },
     "execution_count": 142,
     "metadata": {},
     "output_type": "execute_result"
    }
   ],
   "source": [
    "X_train.shape"
   ]
  },
  {
   "cell_type": "code",
   "execution_count": 143,
   "metadata": {
    "id": "d9jxJLRBqoaf"
   },
   "outputs": [
    {
     "data": {
      "text/plain": [
       "58"
      ]
     },
     "execution_count": 143,
     "metadata": {},
     "output_type": "execute_result"
    }
   ],
   "source": [
    "from sklearn.decomposition import PCA\n",
    "pca = PCA(.95) #n_component\n",
    "pca.fit(X_train_smote)\n",
    "pca.n_components_\n",
    "# pca = PCA(n_components=43, random_state=42).fit_transform(X_train)\n",
    "# 43 components according to the graph, but it only allows 1.\n",
    "# pca = pd.DataFrame(pca,columns=['pca'])\n",
    "#pca\n",
    "#X_train= pd.concat([X_train,pca],axis=1)\n",
    "# pca.shape"
   ]
  },
  {
   "cell_type": "code",
   "execution_count": 144,
   "metadata": {},
   "outputs": [],
   "source": [
    "X_train_smote = pca.transform(X_train_smote)\n",
    "X_test = pca.transform(X_test)\n"
   ]
  },
  {
   "cell_type": "code",
   "execution_count": 145,
   "metadata": {},
   "outputs": [
    {
     "data": {
      "text/plain": [
       "(13677, 58)"
      ]
     },
     "execution_count": 145,
     "metadata": {},
     "output_type": "execute_result"
    }
   ],
   "source": [
    "X_test.shape"
   ]
  },
  {
   "cell_type": "markdown",
   "metadata": {},
   "source": [
    "# XGboost\n",
    "XGBoost is an implementation of gradient boosted decision trees designed for speed and performance."
   ]
  },
  {
   "cell_type": "code",
   "execution_count": 146,
   "metadata": {},
   "outputs": [],
   "source": [
    "from numpy import mean\n",
    "from numpy import std\n",
    "from sklearn.datasets import make_classification\n",
    "from sklearn.model_selection import cross_val_score\n",
    "from sklearn.model_selection import RepeatedStratifiedKFold\n",
    "from xgboost import XGBClassifier\n",
    "xgb= XGBClassifier()"
   ]
  },
  {
   "cell_type": "code",
   "execution_count": 147,
   "metadata": {},
   "outputs": [
    {
     "name": "stderr",
     "output_type": "stream",
     "text": [
      "F:\\anaconda\\conda\\lib\\site-packages\\xgboost\\sklearn.py:1146: UserWarning: The use of label encoder in XGBClassifier is deprecated and will be removed in a future release. To remove this warning, do the following: 1) Pass option use_label_encoder=False when constructing XGBClassifier object; and 2) Encode your labels (y) as integers starting with 0, i.e. 0, 1, 2, ..., [num_class - 1].\n",
      "  warnings.warn(label_encoder_deprecation_msg, UserWarning)\n"
     ]
    },
    {
     "name": "stdout",
     "output_type": "stream",
     "text": [
      "[19:32:00] WARNING: C:/Users/Administrator/workspace/xgboost-win64_release_1.4.0/src/learner.cc:1095: Starting in XGBoost 1.3.0, the default evaluation metric used with the objective 'binary:logistic' was changed from 'error' to 'logloss'. Explicitly set eval_metric if you'd like to restore the old behavior.\n"
     ]
    },
    {
     "data": {
      "text/plain": [
       "XGBClassifier(base_score=0.5, booster='gbtree', colsample_bylevel=1,\n",
       "              colsample_bynode=1, colsample_bytree=1, gamma=0, gpu_id=-1,\n",
       "              importance_type='gain', interaction_constraints='',\n",
       "              learning_rate=0.300000012, max_delta_step=0, max_depth=6,\n",
       "              min_child_weight=1, missing=nan, monotone_constraints='()',\n",
       "              n_estimators=100, n_jobs=8, num_parallel_tree=1, random_state=0,\n",
       "              reg_alpha=0, reg_lambda=1, scale_pos_weight=1, subsample=1,\n",
       "              tree_method='exact', validate_parameters=1, verbosity=None)"
      ]
     },
     "execution_count": 147,
     "metadata": {},
     "output_type": "execute_result"
    }
   ],
   "source": [
    "xgb.fit(X_train_smote, y_train_smote)"
   ]
  },
  {
   "cell_type": "code",
   "execution_count": 148,
   "metadata": {},
   "outputs": [],
   "source": [
    "\n",
    "xb_preds=pd.DataFrame(xgb.predict(X_test))"
   ]
  },
  {
   "cell_type": "code",
   "execution_count": 149,
   "metadata": {},
   "outputs": [
    {
     "name": "stdout",
     "output_type": "stream",
     "text": [
      "       0\n",
      "0      0\n",
      "1      0\n",
      "2      0\n",
      "3      0\n",
      "4      0\n",
      "...   ..\n",
      "13672  0\n",
      "13673  0\n",
      "13674  0\n",
      "13675  0\n",
      "13676  0\n",
      "\n",
      "[13677 rows x 1 columns]\n"
     ]
    }
   ],
   "source": [
    "print(xb_preds)"
   ]
  },
  {
   "cell_type": "code",
   "execution_count": null,
   "metadata": {},
   "outputs": [],
   "source": [
    "xbACC = round(accuracy_score(y_test,xb_preds),4)\n",
    "#0.9995\n",
    "xbROC = round(roc_auc_score(y_test,xb_preds),10)\n",
    "#0.5"
   ]
  },
  {
   "cell_type": "code",
   "execution_count": null,
   "metadata": {},
   "outputs": [],
   "source": [
    "xb_preds.describe()"
   ]
  },
  {
   "cell_type": "code",
   "execution_count": null,
   "metadata": {},
   "outputs": [],
   "source": [
    "y_test.describe()"
   ]
  },
  {
   "cell_type": "code",
   "execution_count": null,
   "metadata": {},
   "outputs": [],
   "source": [
    "print(xbACC)\n",
    "print(xbROC)"
   ]
  },
  {
   "cell_type": "markdown",
   "metadata": {},
   "source": [
    "# Logistic Regression\n",
    "\n",
    "About LBFGS:\n",
    "https://en.wikipedia.org/wiki/Limited-memory_BFGS\n",
    "(iteration reached limit, can't use it)"
   ]
  },
  {
   "cell_type": "code",
   "execution_count": 174,
   "metadata": {},
   "outputs": [
    {
     "name": "stdout",
     "output_type": "stream",
     "text": [
      "[0 0 0 ... 0 0 0]\n"
     ]
    }
   ],
   "source": [
    "from sklearn.linear_model import LogisticRegression\n",
    "logisticRegr = LogisticRegression(solver = 'lbfgs', max_iter=1000)\n",
    "# Changed default solver to increase the speed\n",
    "lg = logisticRegr.fit(X_train_smote, y_train_smote)\n",
    "print(logisticRegr.predict(X_test))\n"
   ]
  },
  {
   "cell_type": "code",
   "execution_count": 125,
   "metadata": {},
   "outputs": [],
   "source": [
    "log_preds = logisticRegr.predict(X_test)"
   ]
  },
  {
   "cell_type": "code",
   "execution_count": 127,
   "metadata": {},
   "outputs": [
    {
     "name": "stdout",
     "output_type": "stream",
     "text": [
      "0.67\n"
     ]
    }
   ],
   "source": [
    "score = round(roc_auc_score(y_test, log_preds), 2)\n",
    "print(score)\n",
    "# 0.67"
   ]
  },
  {
   "cell_type": "code",
   "execution_count": 128,
   "metadata": {},
   "outputs": [],
   "source": [
    "logACC = round(accuracy_score(y_test, log_preds), 2)"
   ]
  },
  {
   "cell_type": "code",
   "execution_count": 129,
   "metadata": {
    "scrolled": true
   },
   "outputs": [
    {
     "name": "stdout",
     "output_type": "stream",
     "text": [
      "0.9\n"
     ]
    }
   ],
   "source": [
    "print(logACC)"
   ]
  },
  {
   "cell_type": "markdown",
   "metadata": {},
   "source": [
    "## Plot AUC"
   ]
  },
  {
   "cell_type": "code",
   "execution_count": 177,
   "metadata": {},
   "outputs": [
    {
     "name": "stdout",
     "output_type": "stream",
     "text": [
      "True Positives: 3\n",
      "False Positives: 1309\n",
      "True Negatives: 12361\n",
      "False Negatives: 4\n"
     ]
    }
   ],
   "source": [
    "tn, fp, fn, tp = confusion_matrix(y_test, log_preds).ravel()\n",
    "print(f'True Positives: {tp}')\n",
    "print(f'False Positives: {fp}')\n",
    "print(f'True Negatives: {tn}')\n",
    "print(f'False Negatives: {fn}')"
   ]
  },
  {
   "cell_type": "code",
   "execution_count": 175,
   "metadata": {},
   "outputs": [],
   "source": [
    "probas = lg.predict_proba(X_test)[:, 1]"
   ]
  },
  {
   "cell_type": "code",
   "execution_count": 176,
   "metadata": {},
   "outputs": [],
   "source": [
    "def get_preds(threshold, probabilities):\n",
    "    return [1 if prob > threshold else 0 for prob in probabilities]"
   ]
  },
  {
   "cell_type": "code",
   "execution_count": 198,
   "metadata": {},
   "outputs": [],
   "source": [
    "roc_values = []\n",
    "for thresh in np.linspace(0, 1, 100):\n",
    "    preds = get_preds(thresh, probas)\n",
    "    tn, fp, fn, tp = confusion_matrix(y_test, preds).ravel()\n",
    "    tpr = tp/(tp+fn)\n",
    "    fpr = fp/(fp+tn)\n",
    "    roc_values.append([tpr, fpr])\n",
    "tpr_values, fpr_values = zip(*roc_values)"
   ]
  },
  {
   "cell_type": "code",
   "execution_count": 201,
   "metadata": {},
   "outputs": [
    {
     "data": {
      "image/png": "[encoded data removed]",
      "text/plain": [
       "<Figure size 720x504 with 1 Axes>"
      ]
     },
     "metadata": {
      "needs_background": "light"
     },
     "output_type": "display_data"
    }
   ],
   "source": [
    "plt.figure\n",
    "fig, ax = plt.subplots(figsize=(10,7))\n",
    "ax.plot(fpr_values, tpr_values)\n",
    "#ax.plot(tpr, fpr)\n",
    "\n",
    "ax.plot(np.linspace(0, 1, 100),\n",
    "         np.linspace(0, 1, 100),\n",
    "         label='baseline',\n",
    "         linestyle='--')\n",
    "plt.title('Receiver Operating Characteristic Curve', fontsize=18)\n",
    "plt.ylabel('TPR', fontsize=16)\n",
    "plt.xlabel('FPR', fontsize=16)\n",
    "plt.legend(fontsize=12);"
   ]
  },
  {
   "cell_type": "code",
   "execution_count": 202,
   "metadata": {},
   "outputs": [
    {
     "data": {
      "text/plain": [
       "0.6664071480823492"
      ]
     },
     "execution_count": 202,
     "metadata": {},
     "output_type": "execute_result"
    }
   ],
   "source": [
    "roc_auc_score(y_test, log_preds)"
   ]
  },
  {
   "cell_type": "markdown",
   "metadata": {
    "id": "qT6cjbkNcBH1"
   },
   "source": [
    "# Isolation Forest\n",
    "\n",
    "Isolation Forests are used for outlier and anomaly detection.\n",
    "\n",
    "n_estimators: The number of trees to use. \n",
    "\n",
    "max_samples: The number of samples to draw while build a single tree.\n",
    "\n",
    "bootstrap: If True, individual trees are fit on random subsets of the training data sampled with replacement. If False, sampling without replacement is performed\n",
    "\n",
    "max_features: The number of features to draw from X to train each base estimator.\n",
    "\n",
    "\n",
    "More details:\n",
    "https://cs.nju.edu.cn/zhouzh/zhouzh.files/publication/icdm08b.pdf?q=isolation-forest\n",
    "\n"
   ]
  },
  {
   "cell_type": "code",
   "execution_count": 150,
   "metadata": {
    "colab": {
     "base_uri": "https://localhost:8080/"
    },
    "id": "vtXAtsbycCzN",
    "outputId": "b79f7151-f890-4ba2-9c21-44e514037c61"
   },
   "outputs": [
    {
     "name": "stdout",
     "output_type": "stream",
     "text": [
      "       0\n",
      "0      1\n",
      "1      1\n",
      "2      1\n",
      "3      1\n",
      "4      1\n",
      "...   ..\n",
      "13672  1\n",
      "13673  1\n",
      "13674  1\n",
      "13675  1\n",
      "13676  1\n",
      "\n",
      "[13677 rows x 1 columns]\n",
      "       0\n",
      "0      0\n",
      "1      0\n",
      "2      0\n",
      "3      0\n",
      "4      0\n",
      "...   ..\n",
      "13672  0\n",
      "13673  0\n",
      "13674  0\n",
      "13675  0\n",
      "13676  0\n",
      "\n",
      "[13677 rows x 1 columns]\n"
     ]
    }
   ],
   "source": [
    "from sklearn.ensemble import IsolationForest\n",
    "rng = np.random.RandomState(42)\n",
    "ISFOR_clus = IsolationForest(n_estimators=1000,max_samples='auto',bootstrap=True,max_features=5, random_state=rng).fit(X_train_smote)\n",
    "# default is 100\n",
    "ISFOR_clus_preds=pd.DataFrame(ISFOR_clus.predict(X_test))\n",
    "print(ISFOR_clus_preds)\n",
    "ISFOR_clus_preds=ISFOR_clus_preds.replace(1, 0).replace(-1,1)\n",
    "# switch them into binary.\n",
    "print(ISFOR_clus_preds)"
   ]
  },
  {
   "cell_type": "code",
   "execution_count": 173,
   "metadata": {},
   "outputs": [
    {
     "ename": "AttributeError",
     "evalue": "'IsolationForest' object has no attribute 'predict_proba'",
     "output_type": "error",
     "traceback": [
      "\u001b[1;31m---------------------------------------------------------------------------\u001b[0m",
      "\u001b[1;31mAttributeError\u001b[0m                            Traceback (most recent call last)",
      "\u001b[1;32m<ipython-input-173-7eb396d50779>\u001b[0m in \u001b[0;36m<module>\u001b[1;34m\u001b[0m\n\u001b[1;32m----> 1\u001b[1;33m \u001b[0mprobas\u001b[0m \u001b[1;33m=\u001b[0m \u001b[0mISFOR_clus\u001b[0m\u001b[1;33m.\u001b[0m\u001b[0mpredict_proba\u001b[0m\u001b[1;33m(\u001b[0m\u001b[0mX_test\u001b[0m\u001b[1;33m)\u001b[0m\u001b[1;33m[\u001b[0m\u001b[1;33m:\u001b[0m\u001b[1;33m,\u001b[0m \u001b[1;36m1\u001b[0m\u001b[1;33m]\u001b[0m\u001b[1;33m\u001b[0m\u001b[1;33m\u001b[0m\u001b[0m\n\u001b[0m",
      "\u001b[1;31mAttributeError\u001b[0m: 'IsolationForest' object has no attribute 'predict_proba'"
     ]
    }
   ],
   "source": [
    "\n"
   ]
  },
  {
   "cell_type": "markdown",
   "metadata": {
    "id": "qm2e1wdACkr1"
   },
   "source": [
    "# Spectral clustering\n",
    "\n",
    "It seems that I can't run this on my machine due to its large occupation of memory. (even 12.5 GB wouldn't be enough)"
   ]
  },
  {
   "cell_type": "code",
   "execution_count": null,
   "metadata": {
    "id": "7Iaz59fGCMVj"
   },
   "outputs": [],
   "source": [
    "# There should be an optimal cluster number if you use k-means to evaluate\n",
    "from sklearn.cluster import SpectralClustering\n",
    "rng = np.random.RandomState(42)\n",
    "# n_init: Number of time the k-means algorithm will be run with different centroid seeds. \n",
    "# \n",
    "SP_clus = SpectralClustering(random_state=rng) # n_clusters=8, n_init=10,default value\n",
    "SP_clus_preds=pd.DataFrame(SP_clus.fit_predict(X_test))"
   ]
  },
  {
   "cell_type": "markdown",
   "metadata": {},
   "source": [
    "# One Class SVM"
   ]
  },
  {
   "cell_type": "code",
   "execution_count": 151,
   "metadata": {},
   "outputs": [],
   "source": [
    "# Outlier detection\n",
    "rng = np.random.RandomState(42)\n",
    "from sklearn.svm import OneClassSVM\n",
    "SVM_clus = OneClassSVM(gamma='auto').fit(X_train_smote)\n",
    "# auto = 1 / n_features, the radius for outlier tolerance.\n",
    "#SVM_clus.predict(X_train)\n",
    "\n",
    "#SVM_clus.score_samples(X_train)-\n",
    "SVM_clus_preds=pd.DataFrame(SVM_clus.fit_predict(X_test))\n",
    "SVM_clus_preds=SVM_clus_preds.replace(1, 0).replace(-1,1)"
   ]
  },
  {
   "cell_type": "code",
   "execution_count": 152,
   "metadata": {},
   "outputs": [
    {
     "data": {
      "text/html": [
       "<div>\n",
       "<style scoped>\n",
       "    .dataframe tbody tr th:only-of-type {\n",
       "        vertical-align: middle;\n",
       "    }\n",
       "\n",
       "    .dataframe tbody tr th {\n",
       "        vertical-align: top;\n",
       "    }\n",
       "\n",
       "    .dataframe thead th {\n",
       "        text-align: right;\n",
       "    }\n",
       "</style>\n",
       "<table border=\"1\" class=\"dataframe\">\n",
       "  <thead>\n",
       "    <tr style=\"text-align: right;\">\n",
       "      <th></th>\n",
       "      <th>0</th>\n",
       "    </tr>\n",
       "  </thead>\n",
       "  <tbody>\n",
       "    <tr>\n",
       "      <th>0</th>\n",
       "      <td>0</td>\n",
       "    </tr>\n",
       "    <tr>\n",
       "      <th>1</th>\n",
       "      <td>0</td>\n",
       "    </tr>\n",
       "    <tr>\n",
       "      <th>2</th>\n",
       "      <td>1</td>\n",
       "    </tr>\n",
       "    <tr>\n",
       "      <th>3</th>\n",
       "      <td>0</td>\n",
       "    </tr>\n",
       "    <tr>\n",
       "      <th>4</th>\n",
       "      <td>0</td>\n",
       "    </tr>\n",
       "    <tr>\n",
       "      <th>...</th>\n",
       "      <td>...</td>\n",
       "    </tr>\n",
       "    <tr>\n",
       "      <th>13672</th>\n",
       "      <td>1</td>\n",
       "    </tr>\n",
       "    <tr>\n",
       "      <th>13673</th>\n",
       "      <td>1</td>\n",
       "    </tr>\n",
       "    <tr>\n",
       "      <th>13674</th>\n",
       "      <td>0</td>\n",
       "    </tr>\n",
       "    <tr>\n",
       "      <th>13675</th>\n",
       "      <td>1</td>\n",
       "    </tr>\n",
       "    <tr>\n",
       "      <th>13676</th>\n",
       "      <td>0</td>\n",
       "    </tr>\n",
       "  </tbody>\n",
       "</table>\n",
       "<p>13677 rows × 1 columns</p>\n",
       "</div>"
      ],
      "text/plain": [
       "       0\n",
       "0      0\n",
       "1      0\n",
       "2      1\n",
       "3      0\n",
       "4      0\n",
       "...   ..\n",
       "13672  1\n",
       "13673  1\n",
       "13674  0\n",
       "13675  1\n",
       "13676  0\n",
       "\n",
       "[13677 rows x 1 columns]"
      ]
     },
     "execution_count": 152,
     "metadata": {},
     "output_type": "execute_result"
    }
   ],
   "source": [
    "SVM_clus_preds"
   ]
  },
  {
   "cell_type": "markdown",
   "metadata": {},
   "source": [
    "# K-means"
   ]
  },
  {
   "cell_type": "code",
   "execution_count": 153,
   "metadata": {},
   "outputs": [
    {
     "data": {
      "text/html": [
       "<div>\n",
       "<style scoped>\n",
       "    .dataframe tbody tr th:only-of-type {\n",
       "        vertical-align: middle;\n",
       "    }\n",
       "\n",
       "    .dataframe tbody tr th {\n",
       "        vertical-align: top;\n",
       "    }\n",
       "\n",
       "    .dataframe thead th {\n",
       "        text-align: right;\n",
       "    }\n",
       "</style>\n",
       "<table border=\"1\" class=\"dataframe\">\n",
       "  <thead>\n",
       "    <tr style=\"text-align: right;\">\n",
       "      <th></th>\n",
       "      <th>0</th>\n",
       "    </tr>\n",
       "  </thead>\n",
       "  <tbody>\n",
       "    <tr>\n",
       "      <th>0</th>\n",
       "      <td>1</td>\n",
       "    </tr>\n",
       "    <tr>\n",
       "      <th>1</th>\n",
       "      <td>0</td>\n",
       "    </tr>\n",
       "    <tr>\n",
       "      <th>2</th>\n",
       "      <td>1</td>\n",
       "    </tr>\n",
       "    <tr>\n",
       "      <th>3</th>\n",
       "      <td>0</td>\n",
       "    </tr>\n",
       "    <tr>\n",
       "      <th>4</th>\n",
       "      <td>1</td>\n",
       "    </tr>\n",
       "    <tr>\n",
       "      <th>...</th>\n",
       "      <td>...</td>\n",
       "    </tr>\n",
       "    <tr>\n",
       "      <th>13672</th>\n",
       "      <td>0</td>\n",
       "    </tr>\n",
       "    <tr>\n",
       "      <th>13673</th>\n",
       "      <td>0</td>\n",
       "    </tr>\n",
       "    <tr>\n",
       "      <th>13674</th>\n",
       "      <td>0</td>\n",
       "    </tr>\n",
       "    <tr>\n",
       "      <th>13675</th>\n",
       "      <td>0</td>\n",
       "    </tr>\n",
       "    <tr>\n",
       "      <th>13676</th>\n",
       "      <td>0</td>\n",
       "    </tr>\n",
       "  </tbody>\n",
       "</table>\n",
       "<p>13677 rows × 1 columns</p>\n",
       "</div>"
      ],
      "text/plain": [
       "       0\n",
       "0      1\n",
       "1      0\n",
       "2      1\n",
       "3      0\n",
       "4      1\n",
       "...   ..\n",
       "13672  0\n",
       "13673  0\n",
       "13674  0\n",
       "13675  0\n",
       "13676  0\n",
       "\n",
       "[13677 rows x 1 columns]"
      ]
     },
     "execution_count": 153,
     "metadata": {},
     "output_type": "execute_result"
    }
   ],
   "source": [
    "from sklearn.cluster import KMeans\n",
    "KMEANS_clus = KMeans(n_clusters=2, n_init=1000, max_iter=1000,random_state=rng).fit(X_train_smote)\n",
    "KMEANS_clus.labels_\n",
    "KMEANS_clus_preds=pd.DataFrame(KMEANS_clus.fit_predict(X_test))\n",
    "KMEANS_clus_preds"
   ]
  },
  {
   "cell_type": "markdown",
   "metadata": {},
   "source": [
    "\n",
    "# Local Outlier Factor\n",
    "The Local Outlier Factor (LOF) algorithm is an unsupervised anomaly detection method which computes the local density deviation of a given data point with respect to its neighbors. It considers as outliers the samples that have a substantially lower density than their neighbors. "
   ]
  },
  {
   "cell_type": "code",
   "execution_count": 154,
   "metadata": {},
   "outputs": [
    {
     "data": {
      "text/plain": [
       "0    13532\n",
       "1      145\n",
       "dtype: int64"
      ]
     },
     "execution_count": 154,
     "metadata": {},
     "output_type": "execute_result"
    }
   ],
   "source": [
    "from sklearn.neighbors import LocalOutlierFactor\n",
    "LOCOUT_clus = LocalOutlierFactor(n_neighbors=10).fit(X_train_smote)\n",
    "LOCOUT_clus_preds=pd.DataFrame(LOCOUT_clus.fit_predict(X_test))\n",
    "LOCOUT_clus_preds=LOCOUT_clus_preds.replace(1, 0).replace(-1,1)\n",
    "LOCOUT_clus_preds.value_counts()"
   ]
  },
  {
   "cell_type": "markdown",
   "metadata": {},
   "source": [
    "# DBScan\n",
    "Density-Based Spatial Clustering of Applications with Noise. Finds core samples of high density and expands clusters from them. Good for data which contains clusters of similar density"
   ]
  },
  {
   "cell_type": "code",
   "execution_count": 155,
   "metadata": {},
   "outputs": [],
   "source": [
    "from sklearn.cluster import DBSCAN\n",
    "DBSC_clus = DBSCAN(eps=3, min_samples=10).fit(X_train_smote)\n",
    "DBSC_clus_preds=pd.DataFrame(DBSC_clus.fit_predict(X_test))\n",
    "DBSC_clus_preds=DBSC_clus_preds.replace(1, 0).replace(-1,1)"
   ]
  },
  {
   "cell_type": "code",
   "execution_count": 168,
   "metadata": {},
   "outputs": [
    {
     "data": {
      "text/plain": [
       "0    13532\n",
       "1      145\n",
       "dtype: int64"
      ]
     },
     "execution_count": 168,
     "metadata": {},
     "output_type": "execute_result"
    }
   ],
   "source": [
    "DBSC_clus_preds.value_counts()\n",
    "LOCOUT_clus_preds.value_counts()"
   ]
  },
  {
   "cell_type": "markdown",
   "metadata": {},
   "source": [
    "# Cluster Score"
   ]
  },
  {
   "cell_type": "code",
   "execution_count": 157,
   "metadata": {},
   "outputs": [
    {
     "data": {
      "text/html": [
       "<div>\n",
       "<style scoped>\n",
       "    .dataframe tbody tr th:only-of-type {\n",
       "        vertical-align: middle;\n",
       "    }\n",
       "\n",
       "    .dataframe tbody tr th {\n",
       "        vertical-align: top;\n",
       "    }\n",
       "\n",
       "    .dataframe thead th {\n",
       "        text-align: right;\n",
       "    }\n",
       "</style>\n",
       "<table border=\"1\" class=\"dataframe\">\n",
       "  <thead>\n",
       "    <tr style=\"text-align: right;\">\n",
       "      <th></th>\n",
       "      <th>clf_class</th>\n",
       "      <th>clf_score</th>\n",
       "      <th>ISOFOR</th>\n",
       "      <th>SVM-1C</th>\n",
       "      <th>KMEANS</th>\n",
       "      <th>LOCOUT</th>\n",
       "      <th>DBSCAN</th>\n",
       "    </tr>\n",
       "  </thead>\n",
       "  <tbody>\n",
       "    <tr>\n",
       "      <th>0</th>\n",
       "      <td>0</td>\n",
       "      <td>0.660452</td>\n",
       "      <td>0</td>\n",
       "      <td>0</td>\n",
       "      <td>1</td>\n",
       "      <td>1</td>\n",
       "      <td>1</td>\n",
       "    </tr>\n",
       "    <tr>\n",
       "      <th>1</th>\n",
       "      <td>0</td>\n",
       "      <td>0.760134</td>\n",
       "      <td>0</td>\n",
       "      <td>0</td>\n",
       "      <td>0</td>\n",
       "      <td>0</td>\n",
       "      <td>1</td>\n",
       "    </tr>\n",
       "    <tr>\n",
       "      <th>2</th>\n",
       "      <td>0</td>\n",
       "      <td>0.682660</td>\n",
       "      <td>0</td>\n",
       "      <td>1</td>\n",
       "      <td>1</td>\n",
       "      <td>0</td>\n",
       "      <td>1</td>\n",
       "    </tr>\n",
       "    <tr>\n",
       "      <th>3</th>\n",
       "      <td>0</td>\n",
       "      <td>0.706170</td>\n",
       "      <td>0</td>\n",
       "      <td>0</td>\n",
       "      <td>0</td>\n",
       "      <td>0</td>\n",
       "      <td>1</td>\n",
       "    </tr>\n",
       "    <tr>\n",
       "      <th>4</th>\n",
       "      <td>0</td>\n",
       "      <td>0.549358</td>\n",
       "      <td>0</td>\n",
       "      <td>0</td>\n",
       "      <td>1</td>\n",
       "      <td>0</td>\n",
       "      <td>0</td>\n",
       "    </tr>\n",
       "    <tr>\n",
       "      <th>...</th>\n",
       "      <td>...</td>\n",
       "      <td>...</td>\n",
       "      <td>...</td>\n",
       "      <td>...</td>\n",
       "      <td>...</td>\n",
       "      <td>...</td>\n",
       "      <td>...</td>\n",
       "    </tr>\n",
       "    <tr>\n",
       "      <th>13672</th>\n",
       "      <td>0</td>\n",
       "      <td>0.740256</td>\n",
       "      <td>0</td>\n",
       "      <td>1</td>\n",
       "      <td>0</td>\n",
       "      <td>0</td>\n",
       "      <td>1</td>\n",
       "    </tr>\n",
       "    <tr>\n",
       "      <th>13673</th>\n",
       "      <td>0</td>\n",
       "      <td>0.658098</td>\n",
       "      <td>0</td>\n",
       "      <td>1</td>\n",
       "      <td>0</td>\n",
       "      <td>0</td>\n",
       "      <td>1</td>\n",
       "    </tr>\n",
       "    <tr>\n",
       "      <th>13674</th>\n",
       "      <td>0</td>\n",
       "      <td>0.602902</td>\n",
       "      <td>0</td>\n",
       "      <td>0</td>\n",
       "      <td>0</td>\n",
       "      <td>0</td>\n",
       "      <td>1</td>\n",
       "    </tr>\n",
       "    <tr>\n",
       "      <th>13675</th>\n",
       "      <td>0</td>\n",
       "      <td>0.818394</td>\n",
       "      <td>0</td>\n",
       "      <td>1</td>\n",
       "      <td>0</td>\n",
       "      <td>0</td>\n",
       "      <td>1</td>\n",
       "    </tr>\n",
       "    <tr>\n",
       "      <th>13676</th>\n",
       "      <td>1</td>\n",
       "      <td>0.494907</td>\n",
       "      <td>0</td>\n",
       "      <td>0</td>\n",
       "      <td>0</td>\n",
       "      <td>0</td>\n",
       "      <td>1</td>\n",
       "    </tr>\n",
       "  </tbody>\n",
       "</table>\n",
       "<p>13677 rows × 7 columns</p>\n",
       "</div>"
      ],
      "text/plain": [
       "       clf_class  clf_score  ISOFOR  SVM-1C  KMEANS  LOCOUT  DBSCAN\n",
       "0              0   0.660452       0       0       1       1       1\n",
       "1              0   0.760134       0       0       0       0       1\n",
       "2              0   0.682660       0       1       1       0       1\n",
       "3              0   0.706170       0       0       0       0       1\n",
       "4              0   0.549358       0       0       1       0       0\n",
       "...          ...        ...     ...     ...     ...     ...     ...\n",
       "13672          0   0.740256       0       1       0       0       1\n",
       "13673          0   0.658098       0       1       0       0       1\n",
       "13674          0   0.602902       0       0       0       0       1\n",
       "13675          0   0.818394       0       1       0       0       1\n",
       "13676          1   0.494907       0       0       0       0       1\n",
       "\n",
       "[13677 rows x 7 columns]"
      ]
     },
     "execution_count": 157,
     "metadata": {},
     "output_type": "execute_result"
    }
   ],
   "source": [
    "finals_preds= pd.concat([clf_preds,clf_pred_probs,ISFOR_clus_preds,SVM_clus_preds,KMEANS_clus_preds,LOCOUT_clus_preds, DBSC_clus_preds],axis=1)\n",
    "finals_preds.columns=['clf_class','clf_score', 'ISOFOR','SVM-1C','KMEANS','LOCOUT','DBSCAN']\n",
    "finals_preds"
   ]
  },
  {
   "cell_type": "code",
   "execution_count": 158,
   "metadata": {},
   "outputs": [],
   "source": [
    "def cluster_scores(cls):\n",
    "    ACC,ROC=[round(accuracy_score(finals_preds['clf_class'],finals_preds[cls]),2) , \n",
    "       round(roc_auc_score(finals_preds['clf_class'],finals_preds[cls]),2)]\n",
    "    # round to 2 decimals\n",
    "    return print(cls, ': Acc=',ACC, '&', 'ROC=',ROC)"
   ]
  },
  {
   "cell_type": "code",
   "execution_count": 159,
   "metadata": {},
   "outputs": [
    {
     "data": {
      "text/html": [
       "<div>\n",
       "<style scoped>\n",
       "    .dataframe tbody tr th:only-of-type {\n",
       "        vertical-align: middle;\n",
       "    }\n",
       "\n",
       "    .dataframe tbody tr th {\n",
       "        vertical-align: top;\n",
       "    }\n",
       "\n",
       "    .dataframe thead th {\n",
       "        text-align: right;\n",
       "    }\n",
       "</style>\n",
       "<table border=\"1\" class=\"dataframe\">\n",
       "  <thead>\n",
       "    <tr style=\"text-align: right;\">\n",
       "      <th></th>\n",
       "      <th>clf_class</th>\n",
       "      <th>clf_score</th>\n",
       "      <th>ISOFOR</th>\n",
       "      <th>SVM-1C</th>\n",
       "      <th>KMEANS</th>\n",
       "      <th>LOCOUT</th>\n",
       "      <th>DBSCAN</th>\n",
       "      <th>ENSEMB</th>\n",
       "    </tr>\n",
       "  </thead>\n",
       "  <tbody>\n",
       "    <tr>\n",
       "      <th>0</th>\n",
       "      <td>0</td>\n",
       "      <td>0.660452</td>\n",
       "      <td>0</td>\n",
       "      <td>0</td>\n",
       "      <td>1</td>\n",
       "      <td>1</td>\n",
       "      <td>1</td>\n",
       "      <td>0.0</td>\n",
       "    </tr>\n",
       "    <tr>\n",
       "      <th>1</th>\n",
       "      <td>0</td>\n",
       "      <td>0.760134</td>\n",
       "      <td>0</td>\n",
       "      <td>0</td>\n",
       "      <td>0</td>\n",
       "      <td>0</td>\n",
       "      <td>1</td>\n",
       "      <td>0.0</td>\n",
       "    </tr>\n",
       "    <tr>\n",
       "      <th>2</th>\n",
       "      <td>0</td>\n",
       "      <td>0.682660</td>\n",
       "      <td>0</td>\n",
       "      <td>1</td>\n",
       "      <td>1</td>\n",
       "      <td>0</td>\n",
       "      <td>1</td>\n",
       "      <td>0.0</td>\n",
       "    </tr>\n",
       "    <tr>\n",
       "      <th>3</th>\n",
       "      <td>0</td>\n",
       "      <td>0.706170</td>\n",
       "      <td>0</td>\n",
       "      <td>0</td>\n",
       "      <td>0</td>\n",
       "      <td>0</td>\n",
       "      <td>1</td>\n",
       "      <td>0.0</td>\n",
       "    </tr>\n",
       "    <tr>\n",
       "      <th>4</th>\n",
       "      <td>0</td>\n",
       "      <td>0.549358</td>\n",
       "      <td>0</td>\n",
       "      <td>0</td>\n",
       "      <td>1</td>\n",
       "      <td>0</td>\n",
       "      <td>0</td>\n",
       "      <td>0.0</td>\n",
       "    </tr>\n",
       "    <tr>\n",
       "      <th>...</th>\n",
       "      <td>...</td>\n",
       "      <td>...</td>\n",
       "      <td>...</td>\n",
       "      <td>...</td>\n",
       "      <td>...</td>\n",
       "      <td>...</td>\n",
       "      <td>...</td>\n",
       "      <td>...</td>\n",
       "    </tr>\n",
       "    <tr>\n",
       "      <th>13672</th>\n",
       "      <td>0</td>\n",
       "      <td>0.740256</td>\n",
       "      <td>0</td>\n",
       "      <td>1</td>\n",
       "      <td>0</td>\n",
       "      <td>0</td>\n",
       "      <td>1</td>\n",
       "      <td>0.0</td>\n",
       "    </tr>\n",
       "    <tr>\n",
       "      <th>13673</th>\n",
       "      <td>0</td>\n",
       "      <td>0.658098</td>\n",
       "      <td>0</td>\n",
       "      <td>1</td>\n",
       "      <td>0</td>\n",
       "      <td>0</td>\n",
       "      <td>1</td>\n",
       "      <td>0.0</td>\n",
       "    </tr>\n",
       "    <tr>\n",
       "      <th>13674</th>\n",
       "      <td>0</td>\n",
       "      <td>0.602902</td>\n",
       "      <td>0</td>\n",
       "      <td>0</td>\n",
       "      <td>0</td>\n",
       "      <td>0</td>\n",
       "      <td>1</td>\n",
       "      <td>0.0</td>\n",
       "    </tr>\n",
       "    <tr>\n",
       "      <th>13675</th>\n",
       "      <td>0</td>\n",
       "      <td>0.818394</td>\n",
       "      <td>0</td>\n",
       "      <td>1</td>\n",
       "      <td>0</td>\n",
       "      <td>0</td>\n",
       "      <td>1</td>\n",
       "      <td>0.0</td>\n",
       "    </tr>\n",
       "    <tr>\n",
       "      <th>13676</th>\n",
       "      <td>1</td>\n",
       "      <td>0.494907</td>\n",
       "      <td>0</td>\n",
       "      <td>0</td>\n",
       "      <td>0</td>\n",
       "      <td>0</td>\n",
       "      <td>1</td>\n",
       "      <td>0.0</td>\n",
       "    </tr>\n",
       "  </tbody>\n",
       "</table>\n",
       "<p>13677 rows × 8 columns</p>\n",
       "</div>"
      ],
      "text/plain": [
       "       clf_class  clf_score  ISOFOR  SVM-1C  KMEANS  LOCOUT  DBSCAN  ENSEMB\n",
       "0              0   0.660452       0       0       1       1       1     0.0\n",
       "1              0   0.760134       0       0       0       0       1     0.0\n",
       "2              0   0.682660       0       1       1       0       1     0.0\n",
       "3              0   0.706170       0       0       0       0       1     0.0\n",
       "4              0   0.549358       0       0       1       0       0     0.0\n",
       "...          ...        ...     ...     ...     ...     ...     ...     ...\n",
       "13672          0   0.740256       0       1       0       0       1     0.0\n",
       "13673          0   0.658098       0       1       0       0       1     0.0\n",
       "13674          0   0.602902       0       0       0       0       1     0.0\n",
       "13675          0   0.818394       0       1       0       0       1     0.0\n",
       "13676          1   0.494907       0       0       0       0       1     0.0\n",
       "\n",
       "[13677 rows x 8 columns]"
      ]
     },
     "execution_count": 159,
     "metadata": {},
     "output_type": "execute_result"
    }
   ],
   "source": [
    "# add a column for all the scrores\n",
    "finals_preds['ENSEMB']= finals_preds[['ISOFOR','SVM-1C','KMEANS','LOCOUT']].mode(axis=1)[0]\n",
    "finals_preds"
   ]
  },
  {
   "cell_type": "code",
   "execution_count": 160,
   "metadata": {},
   "outputs": [
    {
     "name": "stdout",
     "output_type": "stream",
     "text": [
      "ISOFOR : Acc= 0.74 & ROC= 0.46\n",
      "LOCOUT : Acc= 0.83 & ROC= 0.5\n",
      "SVM-1C : Acc= 0.44 & ROC= 0.39\n",
      "DBSCAN : Acc= 0.15 & ROC= 0.49\n",
      "KMEANS : Acc= 0.66 & ROC= 0.62\n",
      "ENSEMB : Acc= 0.81 & ROC= 0.49\n",
      "None None None None None None\n"
     ]
    }
   ],
   "source": [
    "# Use cluster_scores method to see each model's accuracy\n",
    "print(cluster_scores('ISOFOR'),\n",
    "      cluster_scores('LOCOUT'),\n",
    "      cluster_scores('SVM-1C'),\n",
    "      cluster_scores('DBSCAN'),\n",
    "      cluster_scores('KMEANS'),\n",
    "      cluster_scores('ENSEMB'))\n",
    "\n",
    "# ISOFOR : Acc= 0.84 & ROC= 0.45\n",
    "# LOCOUT : Acc= 0.94 & ROC= 0.5\n",
    "# SVM-1C : Acc= 0.48 & ROC= 0.38\n",
    "# DBSCAN : Acc= 0.06 & ROC= 0.5\n",
    "# KMEANS : Acc= 0.63 & ROC= 0.56\n",
    "# ENSEMB : Acc= 0.92 & ROC= 0.49\n",
    "# XGBOOST : ACC = 0.995 & ROC = 0.5\n",
    "# DECISION : ACC = 0.9985 & ROC = 0.4995245062\n",
    "# LOGISTIC : ACC = 0.9 & ROC = 0.67"
   ]
  },
  {
   "cell_type": "code",
   "execution_count": 161,
   "metadata": {
    "scrolled": true
   },
   "outputs": [
    {
     "data": {
      "image/png": "[encoded data removed]",
      "text/plain": [
       "<Figure size 432x288 with 1 Axes>"
      ]
     },
     "metadata": {
      "needs_background": "light"
     },
     "output_type": "display_data"
    }
   ],
   "source": [
    "import seaborn as sn\n",
    "sn.boxplot(x=\"clf_class\",y=\"clf_score\",data=finals_preds);"
   ]
  },
  {
   "cell_type": "code",
   "execution_count": 162,
   "metadata": {
    "scrolled": false
   },
   "outputs": [
    {
     "data": {
      "image/png": "[encoded data removed]",
      "text/plain": [
       "<Figure size 432x288 with 1 Axes>"
      ]
     },
     "metadata": {
      "needs_background": "light"
     },
     "output_type": "display_data"
    }
   ],
   "source": [
    "sn.boxplot(x=\"ENSEMB\",y=\"clf_score\",data=finals_preds);"
   ]
  },
  {
   "cell_type": "code",
   "execution_count": null,
   "metadata": {},
   "outputs": [],
   "source": [
    "sn.boxplot(x=\"ENSEMB\",y=\"clf_score\",data=finals_preds);"
   ]
  },
  {
   "cell_type": "code",
   "execution_count": null,
   "metadata": {},
   "outputs": [],
   "source": [
    "sn.boxplot(x=\"ENSEMB\",y=\"clf_score\",data=finals_preds);"
   ]
  },
  {
   "cell_type": "code",
   "execution_count": null,
   "metadata": {},
   "outputs": [],
   "source": [
    "finals_preds.describe()"
   ]
  },
  {
   "cell_type": "code",
   "execution_count": 171,
   "metadata": {
    "scrolled": true
   },
   "outputs": [
    {
     "data": {
      "image/png": "[encoded data removed]",
      "text/plain": [
       "<Figure size 432x288 with 2 Axes>"
      ]
     },
     "metadata": {
      "needs_background": "light"
     },
     "output_type": "display_data"
    }
   ],
   "source": [
    "cm = confusion_matrix(y_test,finals_preds['ENSEMB'])\n",
    "disp = ConfusionMatrixDisplay(confusion_matrix=cm)\n",
    "disp.plot()\n",
    "plt.title('Confusion matrix of the clustering');"
   ]
  },
  {
   "cell_type": "markdown",
   "metadata": {},
   "source": [
    "# ROAUC Plot"
   ]
  },
  {
   "cell_type": "code",
   "execution_count": 181,
   "metadata": {},
   "outputs": [],
   "source": [
    "import pandas as pd\n",
    "import numpy as np\n",
    "from sklearn.metrics import confusion_matrix\n",
    "from sklearn.linear_model import LogisticRegression\n",
    "from sklearn.preprocessing import StandardScaler\n",
    "from sklearn.model_selection import train_test_split\n",
    "from sklearn.datasets import load_breast_cancer\n",
    "from sklearn.metrics import roc_auc_score\n",
    "import matplotlib.pyplot as plt\n",
    "import seaborn as sns\n"
   ]
  },
  {
   "cell_type": "code",
   "execution_count": 170,
   "metadata": {},
   "outputs": [
    {
     "name": "stdout",
     "output_type": "stream",
     "text": [
      "True Positives: 0\n",
      "False Positives: 370\n",
      "True Negatives: 13300\n",
      "False Negatives: 7\n"
     ]
    }
   ],
   "source": [
    "tn, fp, fn, tp = confusion_matrix(y_test, finals_preds['ENSEMB']).ravel()\n",
    "print(f'True Positives: {tp}')\n",
    "print(f'False Positives: {fp}')\n",
    "print(f'True Negatives: {tn}')\n",
    "print(f'False Negatives: {fn}')"
   ]
  }
 ],
 "metadata": {
  "colab": {
   "collapsed_sections": [],
   "name": "Decision Tree.ipynb",
   "provenance": []
  },
  "kernelspec": {
   "display_name": "Python 3",
   "language": "python",
   "name": "python3"
  },
  "language_info": {
   "codemirror_mode": {
    "name": "ipython",
    "version": 3
   },
   "file_extension": ".py",
   "mimetype": "text/x-python",
   "name": "python",
   "nbconvert_exporter": "python",
   "pygments_lexer": "ipython3",
   "version": "3.8.8"
  }
 },
 "nbformat": 4,
 "nbformat_minor": 1
}
